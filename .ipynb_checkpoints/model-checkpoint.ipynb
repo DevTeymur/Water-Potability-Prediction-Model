{
 "cells": [
  {
   "cell_type": "code",
   "execution_count": 3,
   "metadata": {
    "execution": {
     "iopub.execute_input": "2021-10-06T13:02:43.553144Z",
     "iopub.status.busy": "2021-10-06T13:02:43.552214Z",
     "iopub.status.idle": "2021-10-06T13:02:44.485873Z",
     "shell.execute_reply": "2021-10-06T13:02:44.484892Z",
     "shell.execute_reply.started": "2021-10-06T13:02:43.552976Z"
    }
   },
   "outputs": [],
   "source": [
    "import pandas as pd\n",
    "import seaborn as sns\n",
    "import matplotlib.pyplot as plt\n",
    "import numpy as np\n",
    "from warnings import filterwarnings\n",
    "filterwarnings('ignore')"
   ]
  },
  {
   "cell_type": "code",
   "execution_count": 4,
   "metadata": {
    "execution": {
     "iopub.execute_input": "2021-10-06T13:02:44.488259Z",
     "iopub.status.busy": "2021-10-06T13:02:44.487578Z",
     "iopub.status.idle": "2021-10-06T13:02:44.527267Z",
     "shell.execute_reply": "2021-10-06T13:02:44.526373Z",
     "shell.execute_reply.started": "2021-10-06T13:02:44.488220Z"
    }
   },
   "outputs": [],
   "source": [
    "data=pd.read_csv(\"../input/water-potability/water_potability.csv\")"
   ]
  },
  {
   "cell_type": "code",
   "execution_count": 5,
   "metadata": {
    "execution": {
     "iopub.execute_input": "2021-10-06T13:02:44.528720Z",
     "iopub.status.busy": "2021-10-06T13:02:44.528449Z",
     "iopub.status.idle": "2021-10-06T13:02:44.536314Z",
     "shell.execute_reply": "2021-10-06T13:02:44.535591Z",
     "shell.execute_reply.started": "2021-10-06T13:02:44.528681Z"
    }
   },
   "outputs": [],
   "source": [
    "data.shape"
   ]
  },
  {
   "cell_type": "code",
   "execution_count": 6,
   "metadata": {
    "execution": {
     "iopub.execute_input": "2021-10-06T13:02:44.537928Z",
     "iopub.status.busy": "2021-10-06T13:02:44.537538Z",
     "iopub.status.idle": "2021-10-06T13:02:44.568350Z",
     "shell.execute_reply": "2021-10-06T13:02:44.567485Z",
     "shell.execute_reply.started": "2021-10-06T13:02:44.537896Z"
    }
   },
   "outputs": [],
   "source": [
    "data.head(10)"
   ]
  },
  {
   "cell_type": "code",
   "execution_count": 7,
   "metadata": {
    "execution": {
     "iopub.execute_input": "2021-10-06T13:02:44.571119Z",
     "iopub.status.busy": "2021-10-06T13:02:44.570842Z",
     "iopub.status.idle": "2021-10-06T13:02:44.595952Z",
     "shell.execute_reply": "2021-10-06T13:02:44.594799Z",
     "shell.execute_reply.started": "2021-10-06T13:02:44.571088Z"
    }
   },
   "outputs": [],
   "source": [
    "data.info()"
   ]
  },
  {
   "cell_type": "markdown",
   "metadata": {},
   "source": [
    "# Missing Values"
   ]
  },
  {
   "cell_type": "code",
   "execution_count": 8,
   "metadata": {
    "execution": {
     "iopub.execute_input": "2021-10-06T13:02:44.597447Z",
     "iopub.status.busy": "2021-10-06T13:02:44.597127Z",
     "iopub.status.idle": "2021-10-06T13:02:44.602467Z",
     "shell.execute_reply": "2021-10-06T13:02:44.601646Z",
     "shell.execute_reply.started": "2021-10-06T13:02:44.597411Z"
    }
   },
   "outputs": [],
   "source": [
    "df=data.copy()"
   ]
  },
  {
   "cell_type": "code",
   "execution_count": 9,
   "metadata": {
    "execution": {
     "iopub.execute_input": "2021-10-06T13:02:44.604324Z",
     "iopub.status.busy": "2021-10-06T13:02:44.603716Z",
     "iopub.status.idle": "2021-10-06T13:02:44.618398Z",
     "shell.execute_reply": "2021-10-06T13:02:44.617802Z",
     "shell.execute_reply.started": "2021-10-06T13:02:44.604279Z"
    }
   },
   "outputs": [],
   "source": [
    "df.isnull().sum()"
   ]
  },
  {
   "cell_type": "code",
   "execution_count": 10,
   "metadata": {
    "execution": {
     "iopub.execute_input": "2021-10-06T13:02:44.620407Z",
     "iopub.status.busy": "2021-10-06T13:02:44.619537Z",
     "iopub.status.idle": "2021-10-06T13:02:45.254007Z",
     "shell.execute_reply": "2021-10-06T13:02:45.252980Z",
     "shell.execute_reply.started": "2021-10-06T13:02:44.620370Z"
    }
   },
   "outputs": [],
   "source": [
    "for i in range(len(df)):\n",
    "    if pd.isnull(df['ph'][i])==True:\n",
    "        if ((df['Hardness'][i]<=150) & (df['Potability'][i]==0)):\n",
    "            df['ph'][i]=df[(df['Potability']==0) & (df['Hardness']<=150)]['ph'].mean()\n",
    "            \n",
    "        if ((df['Hardness'][i]>150) & (df['Potability'][i]==0)):\n",
    "            df['ph'][i]=df[(df['Potability']==0) & (df['Hardness']>150)]['ph'].mean()\n",
    "            \n",
    "        if ((df['Hardness'][i]<=150) & (df['Potability'][i]==1)):\n",
    "            df['ph'][i]=df[(df['Potability']==1) & (df['Hardness']<=150)]['ph'].mean()\n",
    "            \n",
    "        if ((df['Hardness'][i]>150) & (df['Potability'][i]==1)):\n",
    "            df['ph'][i]=df[(df['Potability']==1) & (df['Hardness']>150)]['ph'].mean()"
   ]
  },
  {
   "cell_type": "code",
   "execution_count": 11,
   "metadata": {
    "execution": {
     "iopub.execute_input": "2021-10-06T13:02:45.255604Z",
     "iopub.status.busy": "2021-10-06T13:02:45.255307Z",
     "iopub.status.idle": "2021-10-06T13:02:46.595782Z",
     "shell.execute_reply": "2021-10-06T13:02:46.594592Z",
     "shell.execute_reply.started": "2021-10-06T13:02:45.255540Z"
    }
   },
   "outputs": [],
   "source": [
    "for i in range (0,len(df)):\n",
    "    if (pd.isnull(df['Sulfate'][i]) == True):\n",
    "        if (df['Potability'][i]==0):\n",
    "            df['Sulfate'][i]=df[(df['Potability']==0)][['Sulfate']].mean()\n",
    "        else:\n",
    "             df['Sulfate'][i]=df[(df['Potability']==1)][['Sulfate']].mean()"
   ]
  },
  {
   "cell_type": "code",
   "execution_count": 12,
   "metadata": {
    "execution": {
     "iopub.execute_input": "2021-10-06T13:02:46.597483Z",
     "iopub.status.busy": "2021-10-06T13:02:46.597241Z",
     "iopub.status.idle": "2021-10-06T13:02:46.603227Z",
     "shell.execute_reply": "2021-10-06T13:02:46.602340Z",
     "shell.execute_reply.started": "2021-10-06T13:02:46.597453Z"
    }
   },
   "outputs": [],
   "source": [
    "df['Trihalomethanes'].fillna(value = df['Trihalomethanes'].mean(), inplace = True)"
   ]
  },
  {
   "cell_type": "code",
   "execution_count": 13,
   "metadata": {
    "execution": {
     "iopub.execute_input": "2021-10-06T13:02:46.604752Z",
     "iopub.status.busy": "2021-10-06T13:02:46.604487Z",
     "iopub.status.idle": "2021-10-06T13:02:46.619604Z",
     "shell.execute_reply": "2021-10-06T13:02:46.618480Z",
     "shell.execute_reply.started": "2021-10-06T13:02:46.604723Z"
    }
   },
   "outputs": [],
   "source": [
    "df.isnull().sum()"
   ]
  },
  {
   "cell_type": "code",
   "execution_count": 14,
   "metadata": {
    "execution": {
     "iopub.execute_input": "2021-10-06T13:02:46.621173Z",
     "iopub.status.busy": "2021-10-06T13:02:46.620889Z",
     "iopub.status.idle": "2021-10-06T13:02:46.649310Z",
     "shell.execute_reply": "2021-10-06T13:02:46.648452Z",
     "shell.execute_reply.started": "2021-10-06T13:02:46.621144Z"
    }
   },
   "outputs": [],
   "source": [
    "df.head(10)"
   ]
  },
  {
   "cell_type": "markdown",
   "metadata": {},
   "source": [
    "# EDA"
   ]
  },
  {
   "cell_type": "code",
   "execution_count": 15,
   "metadata": {
    "execution": {
     "iopub.execute_input": "2021-10-06T13:02:46.650771Z",
     "iopub.status.busy": "2021-10-06T13:02:46.650534Z",
     "iopub.status.idle": "2021-10-06T13:02:46.659823Z",
     "shell.execute_reply": "2021-10-06T13:02:46.658918Z",
     "shell.execute_reply.started": "2021-10-06T13:02:46.650745Z"
    }
   },
   "outputs": [],
   "source": [
    "wp=df.copy()"
   ]
  },
  {
   "cell_type": "code",
   "execution_count": 16,
   "metadata": {
    "execution": {
     "iopub.execute_input": "2021-10-06T13:02:46.664197Z",
     "iopub.status.busy": "2021-10-06T13:02:46.663357Z",
     "iopub.status.idle": "2021-10-06T13:02:46.674975Z",
     "shell.execute_reply": "2021-10-06T13:02:46.673487Z",
     "shell.execute_reply.started": "2021-10-06T13:02:46.664157Z"
    }
   },
   "outputs": [],
   "source": [
    "wp.Potability = wp.Potability.replace([0, 1], ['No', 'Yes'])"
   ]
  },
  {
   "cell_type": "code",
   "execution_count": 17,
   "metadata": {
    "execution": {
     "iopub.execute_input": "2021-10-06T13:02:46.677116Z",
     "iopub.status.busy": "2021-10-06T13:02:46.676814Z",
     "iopub.status.idle": "2021-10-06T13:02:46.916984Z",
     "shell.execute_reply": "2021-10-06T13:02:46.916114Z",
     "shell.execute_reply.started": "2021-10-06T13:02:46.677086Z"
    }
   },
   "outputs": [],
   "source": [
    "plt.figure(figsize=(5,4))\n",
    "sns.histplot(x='Potability', data=wp)\n",
    "plt.title('Potabiliy distribution')\n",
    "plt.show()"
   ]
  },
  {
   "cell_type": "code",
   "execution_count": 18,
   "metadata": {
    "execution": {
     "iopub.execute_input": "2021-10-06T13:02:46.918652Z",
     "iopub.status.busy": "2021-10-06T13:02:46.918340Z",
     "iopub.status.idle": "2021-10-06T13:02:49.259506Z",
     "shell.execute_reply": "2021-10-06T13:02:49.258826Z",
     "shell.execute_reply.started": "2021-10-06T13:02:46.918613Z"
    }
   },
   "outputs": [],
   "source": [
    "fig, ax = plt.subplots(3, 3, figsize=(25,15))\n",
    "row, col = 0, 0\n",
    "\n",
    "for i in range(len(wp.columns[:-1])):\n",
    "    sns.histplot(wp, x=wp.columns[i], hue=\"Potability\", element=\"poly\", stat=\"count\",  \n",
    "                  palette='magma', ax=ax[row][col])\n",
    "    col+=1\n",
    "    if col==3:\n",
    "        row+=1\n",
    "        col=0"
   ]
  },
  {
   "cell_type": "code",
   "execution_count": 19,
   "metadata": {
    "execution": {
     "iopub.execute_input": "2021-10-06T13:02:49.261383Z",
     "iopub.status.busy": "2021-10-06T13:02:49.260606Z",
     "iopub.status.idle": "2021-10-06T13:02:49.634583Z",
     "shell.execute_reply": "2021-10-06T13:02:49.633724Z",
     "shell.execute_reply.started": "2021-10-06T13:02:49.261345Z"
    }
   },
   "outputs": [],
   "source": [
    "plt.scatter(df.ph, df.Hardness, c=df.Potability, cmap='prism')"
   ]
  },
  {
   "cell_type": "markdown",
   "metadata": {},
   "source": [
    "# Model"
   ]
  },
  {
   "cell_type": "code",
   "execution_count": 20,
   "metadata": {
    "execution": {
     "iopub.execute_input": "2021-10-06T13:02:49.636037Z",
     "iopub.status.busy": "2021-10-06T13:02:49.635786Z",
     "iopub.status.idle": "2021-10-06T13:02:50.128602Z",
     "shell.execute_reply": "2021-10-06T13:02:50.127985Z",
     "shell.execute_reply.started": "2021-10-06T13:02:49.636009Z"
    }
   },
   "outputs": [],
   "source": [
    "from sklearn.model_selection import train_test_split, GridSearchCV\n",
    "from sklearn.linear_model import LogisticRegression\n",
    "from sklearn.svm import SVC, LinearSVC\n",
    "from sklearn.ensemble import RandomForestClassifier\n",
    "from sklearn.neighbors import KNeighborsClassifier\n",
    "from sklearn.naive_bayes import GaussianNB\n",
    "from sklearn.linear_model import SGDClassifier\n",
    "from sklearn.tree import DecisionTreeClassifier\n",
    "from sklearn.ensemble import AdaBoostClassifier, GradientBoostingClassifier\n",
    "from sklearn.metrics import accuracy_score"
   ]
  },
  {
   "cell_type": "code",
   "execution_count": 21,
   "metadata": {
    "execution": {
     "iopub.execute_input": "2021-10-06T13:02:50.130055Z",
     "iopub.status.busy": "2021-10-06T13:02:50.129523Z",
     "iopub.status.idle": "2021-10-06T13:02:50.136794Z",
     "shell.execute_reply": "2021-10-06T13:02:50.136007Z",
     "shell.execute_reply.started": "2021-10-06T13:02:50.130020Z"
    }
   },
   "outputs": [],
   "source": [
    "X = df.drop(['Potability'], axis = 1)\n",
    "Y = df['Potability']"
   ]
  },
  {
   "cell_type": "code",
   "execution_count": 22,
   "metadata": {
    "execution": {
     "iopub.execute_input": "2021-10-06T13:02:50.138180Z",
     "iopub.status.busy": "2021-10-06T13:02:50.137904Z",
     "iopub.status.idle": "2021-10-06T13:02:50.157009Z",
     "shell.execute_reply": "2021-10-06T13:02:50.155913Z",
     "shell.execute_reply.started": "2021-10-06T13:02:50.138141Z"
    }
   },
   "outputs": [],
   "source": [
    "X_train, X_test, Y_train, Y_test = train_test_split(X, Y, test_size=0.2, random_state=65)"
   ]
  },
  {
   "cell_type": "code",
   "execution_count": 23,
   "metadata": {
    "execution": {
     "iopub.execute_input": "2021-10-06T13:02:50.159624Z",
     "iopub.status.busy": "2021-10-06T13:02:50.158752Z",
     "iopub.status.idle": "2021-10-06T13:02:50.167588Z",
     "shell.execute_reply": "2021-10-06T13:02:50.166953Z",
     "shell.execute_reply.started": "2021-10-06T13:02:50.159551Z"
    }
   },
   "outputs": [],
   "source": [
    "models=[LogisticRegression(), SVC(), LinearSVC(), RandomForestClassifier(), KNeighborsClassifier(), \n",
    "        GaussianNB(), SGDClassifier(), DecisionTreeClassifier(), AdaBoostClassifier(), GradientBoostingClassifier()]"
   ]
  },
  {
   "cell_type": "code",
   "execution_count": 24,
   "metadata": {
    "execution": {
     "iopub.execute_input": "2021-10-06T13:02:50.169514Z",
     "iopub.status.busy": "2021-10-06T13:02:50.168503Z",
     "iopub.status.idle": "2021-10-06T13:02:50.179597Z",
     "shell.execute_reply": "2021-10-06T13:02:50.178552Z",
     "shell.execute_reply.started": "2021-10-06T13:02:50.169472Z"
    }
   },
   "outputs": [],
   "source": [
    "results={}"
   ]
  },
  {
   "cell_type": "code",
   "execution_count": 25,
   "metadata": {
    "execution": {
     "iopub.execute_input": "2021-10-06T13:02:50.181392Z",
     "iopub.status.busy": "2021-10-06T13:02:50.181065Z",
     "iopub.status.idle": "2021-10-06T13:02:52.848567Z",
     "shell.execute_reply": "2021-10-06T13:02:52.847927Z",
     "shell.execute_reply.started": "2021-10-06T13:02:50.181331Z"
    }
   },
   "outputs": [],
   "source": [
    "for model in models:\n",
    "    m=model.fit(X_train, Y_train)\n",
    "    Y_pred=m.predict(X_test)\n",
    "    results[type(model).__name__]=accuracy_score(Y_test, Y_pred)"
   ]
  },
  {
   "cell_type": "code",
   "execution_count": 26,
   "metadata": {
    "execution": {
     "iopub.execute_input": "2021-10-06T13:02:52.850920Z",
     "iopub.status.busy": "2021-10-06T13:02:52.849870Z",
     "iopub.status.idle": "2021-10-06T13:02:52.856112Z",
     "shell.execute_reply": "2021-10-06T13:02:52.855022Z",
     "shell.execute_reply.started": "2021-10-06T13:02:52.850875Z"
    }
   },
   "outputs": [],
   "source": [
    "results=pd.Series(results)"
   ]
  },
  {
   "cell_type": "code",
   "execution_count": 27,
   "metadata": {
    "execution": {
     "iopub.execute_input": "2021-10-06T13:02:52.857889Z",
     "iopub.status.busy": "2021-10-06T13:02:52.857443Z",
     "iopub.status.idle": "2021-10-06T13:02:52.872278Z",
     "shell.execute_reply": "2021-10-06T13:02:52.871119Z",
     "shell.execute_reply.started": "2021-10-06T13:02:52.857848Z"
    }
   },
   "outputs": [],
   "source": [
    "results.sort_values(ascending=False)"
   ]
  },
  {
   "cell_type": "markdown",
   "metadata": {},
   "source": [
    "# Model Tuning"
   ]
  },
  {
   "cell_type": "code",
   "execution_count": 28,
   "metadata": {
    "execution": {
     "iopub.execute_input": "2021-10-06T13:02:52.874431Z",
     "iopub.status.busy": "2021-10-06T13:02:52.873623Z",
     "iopub.status.idle": "2021-10-06T13:02:52.882749Z",
     "shell.execute_reply": "2021-10-06T13:02:52.881855Z",
     "shell.execute_reply.started": "2021-10-06T13:02:52.874386Z"
    }
   },
   "outputs": [],
   "source": [
    "def tuning(model, params, X_train=X_train, X_test=X_test, Y_train=Y_train, Y_test=Y_test):\n",
    "    clf=GridSearchCV(model, params, cv=5, return_train_score=True)\n",
    "    clf.fit(X_train, Y_train)\n",
    "    Y_test_pred=clf.predict(X_test)\n",
    "    acc_score=accuracy_score(Y_test, Y_test_pred)\n",
    "    print(type(model).__name__)\n",
    "    print(f'Accuracy Score: {np.round(acc_score*100,2)}%')\n",
    "    print(f'Best params: {clf.best_params_}')"
   ]
  },
  {
   "cell_type": "code",
   "execution_count": 29,
   "metadata": {
    "execution": {
     "iopub.execute_input": "2021-10-06T13:02:52.884310Z",
     "iopub.status.busy": "2021-10-06T13:02:52.884045Z",
     "iopub.status.idle": "2021-10-06T13:05:38.610130Z",
     "shell.execute_reply": "2021-10-06T13:05:38.609208Z",
     "shell.execute_reply.started": "2021-10-06T13:02:52.884283Z"
    }
   },
   "outputs": [],
   "source": [
    "params = {'n_estimators': [50, 60, 70, 80, 90, 95, 98, 99, 100, 102], 'criterion': ['entropy'], 'min_samples_leaf':[50, 70, 90, 110, 130, 150, 170, 190]}\n",
    "tuning(RandomForestClassifier(), params)"
   ]
  },
  {
   "cell_type": "code",
   "execution_count": 30,
   "metadata": {
    "execution": {
     "iopub.execute_input": "2021-10-06T13:05:38.611969Z",
     "iopub.status.busy": "2021-10-06T13:05:38.611659Z",
     "iopub.status.idle": "2021-10-06T14:08:24.683977Z",
     "shell.execute_reply": "2021-10-06T14:08:24.682607Z",
     "shell.execute_reply.started": "2021-10-06T13:05:38.611930Z"
    }
   },
   "outputs": [],
   "source": [
    "params = {'learning_rate': [0.1, 0.2, 0.3, 0.01], 'n_estimators': list(range(95, 102)), 'criterion': ['friedman_mse', 'mse', 'mae']}\n",
    "tuning(GradientBoostingClassifier(), params)"
   ]
  },
  {
   "cell_type": "code",
   "execution_count": 31,
   "metadata": {
    "execution": {
     "iopub.execute_input": "2021-10-06T14:08:24.687627Z",
     "iopub.status.busy": "2021-10-06T14:08:24.687298Z",
     "iopub.status.idle": "2021-10-06T14:09:15.355947Z",
     "shell.execute_reply": "2021-10-06T14:09:15.354845Z",
     "shell.execute_reply.started": "2021-10-06T14:08:24.687591Z"
    }
   },
   "outputs": [],
   "source": [
    "params = {'n_estimators': list(range(40,60)), 'algorithm': ['SAMME', 'SAMME.R']}\n",
    "tuning(AdaBoostClassifier(), params)"
   ]
  },
  {
   "cell_type": "code",
   "execution_count": 32,
   "metadata": {
    "execution": {
     "iopub.execute_input": "2021-10-06T14:09:15.357765Z",
     "iopub.status.busy": "2021-10-06T14:09:15.357434Z",
     "iopub.status.idle": "2021-10-06T14:09:15.834235Z",
     "shell.execute_reply": "2021-10-06T14:09:15.833229Z",
     "shell.execute_reply.started": "2021-10-06T14:09:15.357720Z"
    }
   },
   "outputs": [],
   "source": [
    "params = {'criterion': ['gini','entropy'], 'splitter': ['best', 'random']}\n",
    "tuning(DecisionTreeClassifier(), params)"
   ]
  },
  {
   "cell_type": "code",
   "execution_count": 33,
   "metadata": {},
   "outputs": [],
   "source": [
    "l=[[1,2,3,4,5],\n",
    "   [6,7,8,9,10],\n",
    "   [11,12,13,14,15],\n",
    "   [16,17,18,19,20],\n",
    "   [21,22,23,24,25]]\n"
   ]
  },
  {
   "cell_type": "code",
   "execution_count": 67,
   "metadata": {},
   "outputs": [
    {
     "name": "stdout",
     "output_type": "stream",
     "text": [
      "5 5 5 5 5 10 10 10 10 10 15 15 15 15 15 20 20 20 20 20 25 25 25 25 25 "
     ]
    }
   ],
   "source": [
    "row = 5\n",
    "col = 5\n",
    "for i in range(0, row*col):\n",
    "    row = i//5\n",
    "    col = i%5\n",
    "    #print(row, col)\n",
    "    print(l[row][col-1], end=\" \")"
   ]
  },
  {
   "cell_type": "code",
   "execution_count": null,
   "metadata": {},
   "outputs": [],
   "source": []
  },
  {
   "cell_type": "code",
   "execution_count": null,
   "metadata": {},
   "outputs": [],
   "source": []
  }
 ],
 "metadata": {
  "kernelspec": {
   "display_name": "Python 3",
   "language": "python",
   "name": "python3"
  },
  "language_info": {
   "codemirror_mode": {
    "name": "ipython",
    "version": 3
   },
   "file_extension": ".py",
   "mimetype": "text/x-python",
   "name": "python",
   "nbconvert_exporter": "python",
   "pygments_lexer": "ipython3",
   "version": "3.8.5"
  }
 },
 "nbformat": 4,
 "nbformat_minor": 4
}
